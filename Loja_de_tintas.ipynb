{
 "cells": [
  {
   "cell_type": "markdown",
   "id": "f1f3a686",
   "metadata": {},
   "source": [
    "Faça um Programa para uma loja de tintas. O programa deverá pedir o tamanho em metros quadrados da área a ser pintada. Considere que a cobertura da tinta é de 1 litro para cada 6 metros quadrados e que a tinta é vendida em latas de 18 litros, que custam R$ 80,00 ou em galões de 3,6 litros, que custam R$ 25,00.\n",
    "Informe ao usuário as quantidades de tinta a serem compradas e os respectivos preços em 3 situações:\n",
    "comprar apenas latas de 18 litros;\n",
    "comprar apenas galões de 3,6 litros;\n",
    "misturar latas e galões, de forma que o desperdício de tinta seja menor. Acrescente 10% de folga e sempre arredonde os valores para cima, isto é, considere latas cheias."
   ]
  },
  {
   "cell_type": "code",
   "execution_count": 1,
   "id": "4e9f9b93",
   "metadata": {},
   "outputs": [],
   "source": [
    "class Loja_tinta():\n",
    "    \n",
    "    def __init__(self,metros):\n",
    "        \n",
    "        self.metros = metros\n",
    "        \n",
    "    def imprimi(self):\n",
    "        \n",
    "        print('Galão',self.galao(),'Litros:R$',self.galao_valor)\n",
    "        print('Lata',self.lata(),'Litros:R$',self.lata_valor)\n",
    "        \n",
    "        metro2 = self.metros\n",
    "        mtinta = self.tintas()\n",
    "        \n",
    "        calc = (self.galao / self.litro_metro)\n",
    "        \n",
    "        if metro2 > calc:\n",
    "            \n",
    "            print('Melhor escolha para{}m² Lata de 18L'.format(metro2))\n",
    "        else:\n",
    "            print(calc)\n",
    "           \n",
    "        \n",
    "    def tintas(self):\n",
    "        \n",
    "        self.litro_metro = 6\n",
    "        \n",
    "        return self.litro_metro\n",
    "       \n",
    "    def galao(self):\n",
    "        \n",
    "        self.galao = 3.6\n",
    "        self.galao_valor = 25\n",
    "        return self.galao\n",
    "    \n",
    "    def lata(self):\n",
    "        \n",
    "        self.lata = 18\n",
    "        self.lata_valor = 80\n",
    "        \n",
    "        return self.lata\n",
    "        "
   ]
  },
  {
   "cell_type": "code",
   "execution_count": 2,
   "id": "e5db58e8",
   "metadata": {},
   "outputs": [],
   "source": [
    "compra = Loja_tinta(50)"
   ]
  },
  {
   "cell_type": "code",
   "execution_count": 3,
   "id": "7452d625",
   "metadata": {},
   "outputs": [
    {
     "name": "stdout",
     "output_type": "stream",
     "text": [
      "Galão 3.6 Litros:R$ 25\n",
      "Lata 18 Litros:R$ 80\n",
      "Melhor escolha para50m² Lata de 18L\n"
     ]
    }
   ],
   "source": [
    "compra.imprimi()"
   ]
  },
  {
   "cell_type": "code",
   "execution_count": null,
   "id": "ef00ac71",
   "metadata": {},
   "outputs": [],
   "source": []
  },
  {
   "cell_type": "code",
   "execution_count": null,
   "id": "4dea360f",
   "metadata": {},
   "outputs": [],
   "source": []
  },
  {
   "cell_type": "code",
   "execution_count": null,
   "id": "7d564886",
   "metadata": {},
   "outputs": [],
   "source": []
  }
 ],
 "metadata": {
  "kernelspec": {
   "display_name": "Python 3 (ipykernel)",
   "language": "python",
   "name": "python3"
  },
  "language_info": {
   "codemirror_mode": {
    "name": "ipython",
    "version": 3
   },
   "file_extension": ".py",
   "mimetype": "text/x-python",
   "name": "python",
   "nbconvert_exporter": "python",
   "pygments_lexer": "ipython3",
   "version": "3.8.8"
  }
 },
 "nbformat": 4,
 "nbformat_minor": 5
}
